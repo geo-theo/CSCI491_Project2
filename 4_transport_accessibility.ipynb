{
 "cells": [
  {
   "cell_type": "code",
   "execution_count": 1,
   "id": "62c69962-a108-4b76-8e2a-77e0004cf79a",
   "metadata": {},
   "outputs": [],
   "source": [
    "import pandas as pd\n",
    "import geopandas as gpd\n",
    "from shapely import geometry"
   ]
  },
  {
   "cell_type": "code",
   "execution_count": 2,
   "id": "640eb374-00b5-4042-88bc-cdc100841e80",
   "metadata": {},
   "outputs": [],
   "source": [
    "#import IRIS\n",
    "iris_data = gpd.read_file(\"../data/boundaries/IRIS_with_RegDepCommArr.gpkg\").to_crs(epsg=2154)\n",
    "\n",
    "# import stations\n",
    "stations_data = gpd.read_file(\"../data/transport/RATP/railstations_with_traveltime.gpkg\").to_crs(epsg=2154)"
   ]
  },
  {
   "cell_type": "code",
   "execution_count": 3,
   "id": "cd5b929a-db42-4677-83a7-111f8ca9f84f",
   "metadata": {},
   "outputs": [],
   "source": [
    "# Spatial join identifying station to the IRIS polygon that contains it\n",
    "#stations_with_iris = gpd.sjoin(stations_data, iris_data[['INSEE_IRIS_ID', 'geometry']], how='left', predicate='within')"
   ]
  },
  {
   "cell_type": "code",
   "execution_count": 4,
   "id": "b2ea7c78-8a37-4404-915d-dac830a7981a",
   "metadata": {},
   "outputs": [],
   "source": [
    "# Dissolve multipart IRIS geometries\n",
    "iris_dissolved = iris_data.dissolve(by=\"INSEE_IRIS_ID\", as_index=False)\n",
    "# Compute centroids for each IRIS polygon\n",
    "iris_centroids = iris_dissolved.copy()\n",
    "iris_centroids[\"geometry\"] = iris_centroids.centroid  # replace polygon geometry with its centroid\n",
    "\n",
    "# Perform spatial join: assign each station to the nearest centroid\n",
    "stations_nearestIRIS = gpd.sjoin_nearest(stations_data, iris_centroids[[\"INSEE_IRIS_ID\", \"geometry\"]], how=\"left\", distance_col=\"dist_to_centroid_m\")\n",
    "stations_nearestIRIS = stations_nearestIRIS.drop(columns=[\"index_right\"])\n",
    "# Perform spatial join: find nearest station to each centroid\n",
    "iris_with_station = gpd.sjoin_nearest(iris_centroids, stations_data[[\"id_gares\", \"geometry\"]], how=\"left\", distance_col=\"dist_to_station_m\")\n",
    "iris_with_station = (iris_with_station.sort_values(\"dist_to_station_m\", ascending=True).drop_duplicates(subset=\"INSEE_IRIS_ID\", keep=\"first\"))# Keep only the closest station per IRIS centroid\n",
    "iris_with_station = iris_with_station.drop(columns=[\"index_right\"])\n",
    "\n",
    "# Calculate average walking time to closest station for each IRIS,in minutes, using 5km/hr average (1.4 m/s / 60)\n",
    "# Walk time for stations\n",
    "stations_nearestIRIS[\"walk_time_min\"] = stations_nearestIRIS[\"dist_to_centroid_m\"] / 1.38889 / 60\n",
    "# Walk time for IRIS\n",
    "iris_with_station[\"walk_time_min\"] = iris_with_station[\"dist_to_station_m\"] / 1.38889 / 60\n",
    "\n",
    "# Add centroid-based calculations to original IRIS geodataframe\n",
    "iris_final = iris_dissolved.merge(\n",
    "    iris_with_station[[\"INSEE_IRIS_ID\", \"id_gares\", \"dist_to_station_m\", \"walk_time_min\"]],\n",
    "    on=\"INSEE_IRIS_ID\",\n",
    "    how=\"left\")"
   ]
  },
  {
   "cell_type": "code",
   "execution_count": 5,
   "id": "2c512983-83d2-44bd-a39c-97fdb8a20642",
   "metadata": {},
   "outputs": [],
   "source": [
    "# Perform spatial join to find which IRIS each station falls in\n",
    "stations_in_iris = gpd.sjoin(stations_data, iris_final[[\"INSEE_IRIS_ID\", \"geometry\"]], how=\"left\", predicate=\"within\")\n",
    "\n",
    "# Count stations per IRIS\n",
    "station_counts = (stations_in_iris.groupby(\"INSEE_IRIS_ID\").size().reset_index(name=\"station_count\"))\n",
    "\n",
    "# Add counts to IRIS gdf\n",
    "iris_with_counts = iris_final.merge(station_counts, on=\"INSEE_IRIS_ID\", how=\"left\")\n",
    "\n",
    "# Replace NaN (no stations) with 0\n",
    "iris_with_counts[\"station_count\"] = iris_with_counts[\"station_count\"].fillna(0).astype(int)"
   ]
  },
  {
   "cell_type": "code",
   "execution_count": 6,
   "id": "1466b7db-af2f-40df-8448-0ecc8acc6abc",
   "metadata": {},
   "outputs": [],
   "source": [
    "# add travel time to IRIS data\n",
    "stations_unique = (stations_data.sort_values(\"time_min\", ascending=True).drop_duplicates(subset=\"id_gares\", keep=\"first\")) # keep shortest time for duplicate station entrances\n",
    "iris_with_calcscountstime = iris_with_counts.merge(stations_unique[[\"id_gares\", \"time_min\"]], on=\"id_gares\", how=\"left\")\n"
   ]
  },
  {
   "cell_type": "code",
   "execution_count": 7,
   "id": "65af78e6-8f0b-4777-83e0-3cdd37ebaa76",
   "metadata": {},
   "outputs": [],
   "source": [
    "# output final file to use for choropleths\n",
    "stations_nearestIRIS.to_file(\"../data/transport/railstations_IRIS_accessibility.gpkg\", driver=\"GPKG\")\n",
    "\n",
    "# output final file to use for choropleths\n",
    "iris_with_calcscountstime.to_file(\"../data/boundaries/IRIS_transport_accessibility.gpkg\", driver=\"GPKG\")"
   ]
  }
 ],
 "metadata": {
  "kernelspec": {
   "display_name": "Python [conda env:base] *",
   "language": "python",
   "name": "conda-base-py"
  },
  "language_info": {
   "codemirror_mode": {
    "name": "ipython",
    "version": 3
   },
   "file_extension": ".py",
   "mimetype": "text/x-python",
   "name": "python",
   "nbconvert_exporter": "python",
   "pygments_lexer": "ipython3",
   "version": "3.13.5"
  }
 },
 "nbformat": 4,
 "nbformat_minor": 5
}
