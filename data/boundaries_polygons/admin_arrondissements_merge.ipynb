{
 "cells": [
  {
   "cell_type": "code",
   "execution_count": 1,
   "id": "793af4ed-b15f-48e1-85fa-0adb172e2dba",
   "metadata": {},
   "outputs": [],
   "source": [
    "import pandas as pd\n",
    "import geopandas as gpd\n",
    "from shapely import geometry"
   ]
  },
  {
   "cell_type": "code",
   "execution_count": 2,
   "id": "161a0c03-1de2-4455-b081-934c61ce2ea7",
   "metadata": {},
   "outputs": [],
   "source": [
    "reg_path = \"Regions_iledefrance.geojson\"\n",
    "dept_path = \"Departements_iledefrance.geojson\"\n",
    "arrs_path = \"Arrondissements_iledefrance.geojson\"\n",
    "parisarrs_path = \"Arrondissements_paris.geojson\"\n",
    "comm_path = \"Communes_iledefrance.geojson\"\n",
    "iris_path = \"IRIS_iledefrance.geojson\"\n",
    "\n",
    "reg_gdf = gpd.read_file(reg_path)\n",
    "dept_gdf = gpd.read_file(dept_path)\n",
    "arrs_gdf = gpd.read_file(arrs_path)\n",
    "parisarrs_gdf = gpd.read_file(parisarrs_path)\n",
    "comm_gdf = gpd.read_file(comm_path)\n",
    "iris_gdf = gpd.read_file(iris_path)"
   ]
  },
  {
   "cell_type": "code",
   "execution_count": 3,
   "id": "0a08efda-d6bf-417b-b39c-b3414b098f19",
   "metadata": {},
   "outputs": [
    {
     "name": "stdout",
     "output_type": "stream",
     "text": [
      "Index(['ID', 'FID', 'NOM', 'NOM_M', 'INSEE_ARM', 'INSEE_COM', 'POPULATION',\n",
      "       'geometry'],\n",
      "      dtype='object')\n",
      "Index(['ID', 'STATUT', 'INSEE_COM', 'INSEE_ARR', 'INSEE_DEP', 'INSEE_REG',\n",
      "       'POPULATION', 'FID', 'NOM', 'NOM_M', 'INSEE_CAN', 'SIREN_EPCI',\n",
      "       'geometry'],\n",
      "      dtype='object')\n"
     ]
    }
   ],
   "source": [
    "print(parisarrs_gdf.columns)\n",
    "print(comm_gdf.columns)"
   ]
  },
  {
   "cell_type": "code",
   "execution_count": 4,
   "id": "524a6607-af2a-402f-9175-532f5ab2912e",
   "metadata": {},
   "outputs": [
    {
     "name": "stdout",
     "output_type": "stream",
     "text": [
      "Index(['ID', 'STATUT', 'INSEE_COM', 'INSEE_ARR', 'INSEE_DEP', 'INSEE_REG',\n",
      "       'POPULATION', 'FID', 'NOM', 'NOM_M', 'INSEE_CAN', 'SIREN_EPCI',\n",
      "       'geometry'],\n",
      "      dtype='object')\n"
     ]
    }
   ],
   "source": [
    "parisarrs_comm_aligned = parisarrs_gdf.copy()\n",
    "\n",
    "# add any missing columns that exist in comm_gdf but not in parisarrs_gdf\n",
    "for col in comm_gdf.columns:\n",
    "    if col not in parisarrs_comm_aligned.columns:\n",
    "        parisarrs_comm_aligned[col] = pd.NA\n",
    "\n",
    "# reorder to match comm_gdf exactly\n",
    "parisarrs_comm_aligned = parisarrs_comm_aligned[comm_gdf.columns]\n",
    "\n",
    "print(parisarrs_comm_aligned.columns)"
   ]
  },
  {
   "cell_type": "code",
   "execution_count": 5,
   "id": "194c7dfd-e2f0-4f7d-ad9e-9f20f4012f68",
   "metadata": {},
   "outputs": [
    {
     "name": "stdout",
     "output_type": "stream",
     "text": [
      "['75']\n",
      "['arrondissement']\n"
     ]
    }
   ],
   "source": [
    "# Paris department and region codes\n",
    "parisarrs_comm_aligned[\"INSEE_DEP\"] = \"75\"\n",
    "parisarrs_comm_aligned[\"INSEE_REG\"] = \"11\"\n",
    "\n",
    "# Arrondissement code comes from INSEE_ARM if available\n",
    "if \"INSEE_ARM\" in parisarrs_gdf.columns:\n",
    "    parisarrs_comm_aligned[\"INSEE_ARR\"] = parisarrs_gdf[\"INSEE_ARM\"]\n",
    "\n",
    "# For any missing arrondissement code, fill with NA explicitly\n",
    "parisarrs_comm_aligned[\"INSEE_ARR\"] = parisarrs_comm_aligned[\"INSEE_ARR\"].fillna(pd.NA)\n",
    "\n",
    "# Optional: set STATUT to \"arrondissement\"\n",
    "parisarrs_comm_aligned[\"STATUT\"] = \"arrondissement\"\n",
    "\n",
    "# check unique values of INSEE_DEP and STATUT to confirm\n",
    "print(parisarrs_comm_aligned[\"INSEE_DEP\"].unique())\n",
    "print(parisarrs_comm_aligned[\"STATUT\"].unique())"
   ]
  },
  {
   "cell_type": "code",
   "execution_count": 6,
   "id": "6f2f1107-37e9-4b68-b630-c6aeb53f9bfd",
   "metadata": {},
   "outputs": [
    {
     "name": "stdout",
     "output_type": "stream",
     "text": [
      "(1408, 13)\n"
     ]
    }
   ],
   "source": [
    "comm_gdf_no_paris = comm_gdf[comm_gdf[\"INSEE_DEP\"] != \"75\"].copy()\n",
    "print(comm_gdf_no_paris.shape)"
   ]
  },
  {
   "cell_type": "code",
   "execution_count": 7,
   "id": "665ad9ae-52b8-45b5-b8a7-c201d391ac0c",
   "metadata": {},
   "outputs": [
    {
     "name": "stdout",
     "output_type": "stream",
     "text": [
      "(1428, 13)\n"
     ]
    }
   ],
   "source": [
    "comm_gdf_merged = gpd.GeoDataFrame(pd.concat([comm_gdf_no_paris, parisarrs_comm_aligned], ignore_index=True), crs=comm_gdf.crs)\n",
    "\n",
    "print(comm_gdf_merged.shape)"
   ]
  },
  {
   "cell_type": "code",
   "execution_count": 8,
   "id": "ec86cc77-6479-428c-9290-01937c395ba7",
   "metadata": {},
   "outputs": [],
   "source": [
    "comm_gdf_merged.to_file(\"Communes_iledefrance_with_parisarrs.geojson\", driver=\"GeoJSON\")"
   ]
  }
 ],
 "metadata": {
  "kernelspec": {
   "display_name": "Python [conda env:base] *",
   "language": "python",
   "name": "conda-base-py"
  },
  "language_info": {
   "codemirror_mode": {
    "name": "ipython",
    "version": 3
   },
   "file_extension": ".py",
   "mimetype": "text/x-python",
   "name": "python",
   "nbconvert_exporter": "python",
   "pygments_lexer": "ipython3",
   "version": "3.13.5"
  }
 },
 "nbformat": 4,
 "nbformat_minor": 5
}
