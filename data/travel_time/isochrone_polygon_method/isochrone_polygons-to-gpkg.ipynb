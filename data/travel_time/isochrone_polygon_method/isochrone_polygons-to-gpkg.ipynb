{
 "cells": [
  {
   "cell_type": "code",
   "execution_count": 1,
   "id": "851a8675-fa56-4342-bbf4-45c46a5aef23",
   "metadata": {},
   "outputs": [],
   "source": [
    "# !pip install geopandas\n",
    "import geopandas as gpd\n",
    "import pandas as pd\n"
   ]
  },
  {
   "cell_type": "code",
   "execution_count": 2,
   "id": "972ab3ac-db56-4025-85a8-7497fe45d2f6",
   "metadata": {},
   "outputs": [],
   "source": [
    "# save api responses as variables\n",
    "with open(\"api_responses_1hour.txt\") as f:\n",
    "    exec(f.read())"
   ]
  },
  {
   "cell_type": "code",
   "execution_count": 3,
   "id": "9ec63fec-8798-4f8c-9e73-4564bf2cdf8b",
   "metadata": {},
   "outputs": [],
   "source": [
    "# function to add minute and label properties to api data for later visualizations\n",
    "def add_travel_time_properties(name, minutes, label):\n",
    "    isochrone = eval(name)\n",
    "    for feature in isochrone[\"features\"]:\n",
    "        feature[\"properties\"][\"travel_time_min\"] = minutes\n",
    "        feature[\"properties\"][\"travel_time_label\"] = label\n",
    "        \n",
    "        feature[\"properties\"].pop(\"search_id\", None) # remove 'search_id' since they're all \"0\" from API\n",
    "\n",
    "    return {\"name\": name, \"travel_time_min\": minutes, \"travel_time_label\": label, \"data\": isochrone}\n",
    "\n",
    "# save list of isocrhone variable names\n",
    "variable_names = [f\"isochrone{i:03d}\" for i in range(1, 61)]\n",
    "# save list of travel times as integers\n",
    "travel_times = list(range(1, 61))\n",
    "# save list of travel time labels\n",
    "travel_labels = [f\"{i:03d}_min\" for i in travel_times]\n",
    "\n",
    "# save all data into dictionary\n",
    "isochrone_dict = {name: add_travel_time_properties(name, minutes, label) for name, minutes, label in zip(variable_names, travel_times, travel_labels)}"
   ]
  },
  {
   "cell_type": "code",
   "execution_count": 4,
   "id": "7ab2db24-9d85-4e47-b9de-4431d2a68c26",
   "metadata": {},
   "outputs": [],
   "source": [
    "# set path to your output GeoPackage\n",
    "#gpkg_file_name = \"Paris_3hours_1min-isochrones.gpkg\"\n",
    "gpkg_file_name = \"Paris_1hr_1min-isochrones.gpkg\"\n",
    "\n",
    "# loop through dictionary and save each isochrone as a layer\n",
    "for name, entry in isochrone_dict.items():\n",
    "    # convert the GeoJSON dict to a GeoDataFrame\n",
    "    gdf = gpd.GeoDataFrame.from_features(entry[\"data\"][\"features\"], crs=\"EPSG:4326\")\n",
    "\n",
    "    # optional: add global metadata columns for convenience\n",
    "    gdf[\"travel_time_min\"] = entry[\"travel_time_min\"]\n",
    "    gdf[\"travel_time_label\"] = entry[\"travel_time_label\"]\n",
    "\n",
    "    # save to GPKG (each layer named after the isochrone)\n",
    "    gdf.to_file(gpkg_file_name, layer=name, driver=\"GPKG\")"
   ]
  },
  {
   "cell_type": "code",
   "execution_count": 5,
   "id": "1bfcaa97-11b0-437d-8eb7-37b00709641f",
   "metadata": {},
   "outputs": [],
   "source": [
    "# save all into one layer\n",
    "\n",
    "# Collect all features into one GeoDataFrame\n",
    "all_gdfs = []\n",
    "\n",
    "for name, entry in isochrone_dict.items():\n",
    "    gdf = gpd.GeoDataFrame.from_features(entry[\"data\"][\"features\"], crs=\"EPSG:4326\")\n",
    "    gdf[\"travel_time_min\"] = entry[\"travel_time_min\"]\n",
    "    gdf[\"travel_time_label\"] = entry[\"travel_time_label\"]\n",
    "    gdf[\"layer_name\"] = name  # optional: keep source layer reference\n",
    "    all_gdfs.append(gdf)\n",
    "\n",
    "# Combine into one GeoDataFrame\n",
    "gdf_all = pd.concat(all_gdfs, ignore_index=True)\n",
    "\n",
    "# order by travel time\n",
    "gdf_all = gdf_all.sort_values(\"travel_time_min\").reset_index(drop=True)\n",
    "gdf_all.set_crs(\"EPSG:4326\", inplace=True)\n",
    "\n",
    "\n",
    "# save as one layer\n",
    "output_path = \"Paris_1hr_isochrones_combined.gpkg\"\n",
    "gdf_all.to_file(output_path, layer=\"all_isochrones\", driver=\"GPKG\")\n"
   ]
  }
 ],
 "metadata": {
  "kernelspec": {
   "display_name": "Python [conda env:base] *",
   "language": "python",
   "name": "conda-base-py"
  },
  "language_info": {
   "codemirror_mode": {
    "name": "ipython",
    "version": 3
   },
   "file_extension": ".py",
   "mimetype": "text/x-python",
   "name": "python",
   "nbconvert_exporter": "python",
   "pygments_lexer": "ipython3",
   "version": "3.13.5"
  }
 },
 "nbformat": 4,
 "nbformat_minor": 5
}
