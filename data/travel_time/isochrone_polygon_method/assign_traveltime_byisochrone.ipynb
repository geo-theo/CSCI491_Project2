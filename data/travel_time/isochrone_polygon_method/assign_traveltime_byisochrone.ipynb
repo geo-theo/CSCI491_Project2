{
 "cells": [
  {
   "cell_type": "code",
   "execution_count": 1,
   "id": "60b1d54f-efbe-41e7-80ff-a9abe0b47ce0",
   "metadata": {},
   "outputs": [],
   "source": [
    "import geopandas as gpd\n",
    "import pandas as pd"
   ]
  },
  {
   "cell_type": "code",
   "execution_count": 2,
   "id": "9a8fe776-bf9e-47f3-93d6-ac3c18c6127a",
   "metadata": {},
   "outputs": [],
   "source": [
    "isochrones = gpd.read_file(\"Paris_1hr_isochrones_combined.gpkg\")\n",
    "stations = gpd.read_file(\"Stations of the Ile-de-France Rail Network.gpkg\")"
   ]
  },
  {
   "cell_type": "code",
   "execution_count": 3,
   "id": "e050f4fd-adbc-4c2e-9a81-6797548a416d",
   "metadata": {},
   "outputs": [],
   "source": [
    "# set default travel time for all stations\n",
    "stations[\"time_min\"] = 61"
   ]
  },
  {
   "cell_type": "code",
   "execution_count": 4,
   "id": "96a44afc-9be3-4db3-95d2-17ba2cc04fd4",
   "metadata": {},
   "outputs": [],
   "source": [
    " # sort isochrones from largest to smallest (for containment assignment)\n",
    "isochrones_sorted = isochrones.sort_values(by=\"travel_time_min\", ascending=False)"
   ]
  },
  {
   "cell_type": "code",
   "execution_count": 5,
   "id": "832d863c-dcb3-4902-93ec-23fd247ea6fd",
   "metadata": {},
   "outputs": [],
   "source": [
    "# assign travel times by containment\n",
    "for _, row in isochrones_sorted.iterrows():\n",
    "    poly = row.geometry\n",
    "    minute_val = int(row[\"travel_time_min\"])\n",
    "    mask = (stations.within(poly)) & (stations[\"time_min\"] > minute_val)\n",
    "    stations.loc[mask, \"time_min\"] = minute_val"
   ]
  },
  {
   "cell_type": "code",
   "execution_count": 6,
   "id": "be9a0557-1e66-4824-8c24-16fd2900b815",
   "metadata": {},
   "outputs": [],
   "source": [
    "# output to geopackage\n",
    "output_path = \"Stations_with_traveltime.gpkg\"\n",
    "stations.to_file(output_path, driver=\"GPKG\")"
   ]
  }
 ],
 "metadata": {
  "kernelspec": {
   "display_name": "Python [conda env:base] *",
   "language": "python",
   "name": "conda-base-py"
  },
  "language_info": {
   "codemirror_mode": {
    "name": "ipython",
    "version": 3
   },
   "file_extension": ".py",
   "mimetype": "text/x-python",
   "name": "python",
   "nbconvert_exporter": "python",
   "pygments_lexer": "ipython3",
   "version": "3.13.5"
  }
 },
 "nbformat": 4,
 "nbformat_minor": 5
}
