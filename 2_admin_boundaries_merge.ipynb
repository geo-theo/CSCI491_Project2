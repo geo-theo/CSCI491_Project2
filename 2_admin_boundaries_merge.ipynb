{
 "cells": [
  {
   "cell_type": "code",
   "execution_count": 1,
   "id": "793af4ed-b15f-48e1-85fa-0adb172e2dba",
   "metadata": {},
   "outputs": [],
   "source": [
    "import pandas as pd\n",
    "import geopandas as gpd\n",
    "from shapely import geometry"
   ]
  },
  {
   "cell_type": "code",
   "execution_count": 2,
   "id": "161a0c03-1de2-4455-b081-934c61ce2ea7",
   "metadata": {},
   "outputs": [],
   "source": [
    "reg_path = \"../data/boundaries/individual_layers/Regions_iledefrance.geojson\"\n",
    "dept_path = \"../data/boundaries/individual_layers/Departements_iledefrance.geojson\"\n",
    "arrs_path = \"../data/boundaries/individual_layers/Arrondissements_iledefrance.geojson\"\n",
    "parisarrs_path = \"../data/boundaries/individual_layers/Arrondissements_paris.geojson\"\n",
    "comm_path = \"../data/boundaries/individual_layers/Communes_iledefrance.geojson\"\n",
    "iris_path = \"../data/boundaries/individual_layers/IRIS_iledefrance.geojson\"\n",
    "\n",
    "reg_gdf = gpd.read_file(reg_path).to_crs(epsg=2154)\n",
    "dept_gdf = gpd.read_file(dept_path).to_crs(epsg=2154)\n",
    "arrs_gdf = gpd.read_file(arrs_path).to_crs(epsg=2154)\n",
    "parisarrs_gdf = gpd.read_file(parisarrs_path).to_crs(epsg=2154)\n",
    "comm_gdf = gpd.read_file(comm_path).to_crs(epsg=2154)\n",
    "iris_gdf = gpd.read_file(iris_path).to_crs(epsg=2154)"
   ]
  },
  {
   "cell_type": "code",
   "execution_count": 3,
   "id": "524a6607-af2a-402f-9175-532f5ab2912e",
   "metadata": {},
   "outputs": [],
   "source": [
    "parisarrs_comm_aligned = parisarrs_gdf.copy()\n",
    "\n",
    "# add any missing columns that exist in comm_gdf but not in parisarrs_gdf\n",
    "for col in comm_gdf.columns:\n",
    "    if col not in parisarrs_comm_aligned.columns:\n",
    "        parisarrs_comm_aligned[col] = pd.NA\n",
    "\n",
    "# reorder to match comm_gdf exactly\n",
    "parisarrs_comm_aligned = parisarrs_comm_aligned[comm_gdf.columns]\n",
    "\n",
    "# Paris department and region codes\n",
    "parisarrs_comm_aligned[\"INSEE_DEP\"] = \"75\"\n",
    "parisarrs_comm_aligned[\"INSEE_REG\"] = \"11\"\n",
    "\n",
    "# Arrondissement code comes from INSEE_ARM if available\n",
    "if \"INSEE_ARM\" in parisarrs_gdf.columns:\n",
    "    parisarrs_comm_aligned[\"INSEE_ARR\"] = parisarrs_gdf[\"INSEE_ARM\"]\n",
    "\n",
    "# For any missing arrondissement code, fill with NA explicitly\n",
    "parisarrs_comm_aligned[\"INSEE_ARR\"] = parisarrs_comm_aligned[\"INSEE_ARR\"].fillna(pd.NA)\n",
    "\n",
    "# Optional: set STATUT to \"arrondissement\"\n",
    "parisarrs_comm_aligned[\"STATUT\"] = \"arrondissement\"\n",
    "\n",
    "# save communes without Paris communes\n",
    "comm_gdf_no_paris = comm_gdf[comm_gdf[\"INSEE_DEP\"] != \"75\"].copy()\n",
    "\n",
    "# save new communes with arrondissements\n",
    "comm_gdf_merged = gpd.GeoDataFrame(pd.concat([comm_gdf_no_paris, parisarrs_comm_aligned], ignore_index=True), crs=comm_gdf.crs)\n",
    "\n",
    "# Replace INSEE_COM code with code from arrondissement\n",
    "comm_gdf_merged.loc[comm_gdf_merged['INSEE_COM'] == \"75056\", 'INSEE_COM'] = comm_gdf_merged.loc[comm_gdf_merged['INSEE_COM'] == \"75056\", 'INSEE_ARR']\n",
    "\n",
    "# set correct crs for future calculations (should already be EPSG:2154 but doublecheck to be sure)\n",
    "comm_gdf_merged.set_crs(epsg=2154)\n",
    "# save to new geojson file\n",
    "comm_gdf_merged.to_file(\"../data/boundaries/individual_layers/Communes_iledefrance_with_parisarrs.geojson\", driver=\"GeoJSON\")"
   ]
  },
  {
   "cell_type": "code",
   "execution_count": 4,
   "id": "5e3dbfcd-9e87-4344-b458-0bd0dd43e3be",
   "metadata": {},
   "outputs": [],
   "source": [
    "# save all geojsons as single geopackage\n",
    "\n",
    "# Map variable names to desired layer names\n",
    "layers = {\n",
    "    \"regions\": reg_gdf,\n",
    "    \"departements\": dept_gdf,\n",
    "    \"arrondissements\": arrs_gdf,\n",
    "    \"communes\": comm_gdf_merged,\n",
    "    \"iris\": iris_gdf\n",
    "}\n",
    "\n",
    "# Loop through and write each as a separate layer into a single geopackage\n",
    "for i, (layer_name, gdf) in enumerate(layers.items()):\n",
    "    gdf.to_file(\"../data/boundaries/admin_polygons_alllayers.gpkg\", layer=layer_name, driver=\"GPKG\")\n"
   ]
  },
  {
   "cell_type": "code",
   "execution_count": 5,
   "id": "b7b85973-a15f-4f1c-b098-01d2925be11c",
   "metadata": {},
   "outputs": [],
   "source": [
    "# add ile-de-france region code to every IRIS\n",
    "iris_with_Reg = iris_gdf.copy()\n",
    "iris_with_Reg[\"INSEE_REG\"] = \"REGION_FXX_0000000000001\""
   ]
  },
  {
   "cell_type": "code",
   "execution_count": 6,
   "id": "3f465f66-4a52-446f-97fe-63cf01c1dbd2",
   "metadata": {},
   "outputs": [],
   "source": [
    "# thankfully commune code is already present in IRIS table, but we can bring over the department code\n",
    "iris_with_RegDepComm = iris_with_Reg.merge(comm_gdf_merged[[\"INSEE_COM\", \"INSEE_DEP\"]], on=\"INSEE_COM\", how=\"left\")\n",
    "# add in the department name\n",
    "iris_with_RegDepComm = iris_with_RegDepComm.merge(dept_gdf[[\"INSEE_DEP\", \"NOM_DEP\"]], on=\"INSEE_DEP\", how=\"left\")\n",
    "\n",
    "# add missing department information for 11 IRISs missing departments\n",
    "iris_with_RegDepComm.loc[iris_with_RegDepComm[\"INSEE_COM\"] == \"93059\", [\"INSEE_DEP\", \"NOM_DEP\"]] = [\"93\", \"Seine-Saint-Denis\"]\n",
    "iris_with_RegDepComm.loc[iris_with_RegDepComm[\"INSEE_COM\"] == \"95282\", [\"INSEE_DEP\", \"NOM_DEP\"]] = [\"95\", \"Val-d'Oise\"]\n",
    "iris_with_RegDepComm.loc[iris_with_RegDepComm[\"INSEE_COM\"] == \"60420\", [\"INSEE_DEP\", \"NOM_DEP\"]] = [\"60\", \"Oise\"]\n",
    "\n",
    "# rename Commune columns for future joins for higher regional choropleths\n",
    "iris_with_RegDepComm = iris_with_RegDepComm.rename(columns={\"CODE_IRIS\": \"INSEE_IRIS_ID\", \"INSEE_COM\": \"INSEE_COM_ID\", \"INSEE_DEP\": \"INSEE_DEP_ID\"})"
   ]
  },
  {
   "cell_type": "code",
   "execution_count": 7,
   "id": "84221cd3-40ca-470b-b6ba-8b45ebe4d88b",
   "metadata": {},
   "outputs": [
    {
     "name": "stderr",
     "output_type": "stream",
     "text": [
      "C:\\Users\\theoj\\AppData\\Roaming\\Python\\Python313\\site-packages\\geopandas\\tools\\overlay.py:358: UserWarning: `keep_geom_type=True` in overlay resulted in 2770 dropped geometries of different geometry types than df1 has. Set `keep_geom_type=False` to retain all geometries\n",
      "  result = _collection_extract(result, geom_type, keep_geom_type_warning)\n"
     ]
    }
   ],
   "source": [
    "'''\n",
    "# rename arrondissement ID column to be added to IRIS table\n",
    "arrs_gdf_forirismerge = arrs_gdf.rename(columns={\"ID\": \"INSEE_ARR_ID\", \"NOM\": \"NOM_ARR\"})\n",
    "# # add arrondissement code to each IRIS that are within the arrondissement\n",
    "iris_with_RegDepCommArr = iris_with_RegDepComm.sjoin(arrs_gdf_forirismerge[[\"INSEE_ARR_ID\", \"NOM_ARR\", \"geometry\"]], how=\"left\", predicate=\"within\")\n",
    "# Keep all original IRIS fields + arrondissement ID (drop index_right column)\n",
    "iris_with_RegDepCommArr = iris_with_RegDepCommArr.drop(columns=[\"index_right\"])\n",
    "'''\n",
    "\n",
    "# rename arrondissement ID column to be added to IRIS table\n",
    "arrs_gdf_forirismerge = arrs_gdf.rename(columns={\"ID\": \"INSEE_ARR_ID\", \"NOM\": \"NOM_ARR\"})\n",
    "\n",
    "# compute intersections between IRIS and arrondissements\n",
    "iris_arr_intersection = gpd.overlay(iris_with_RegDepComm[[\"INSEE_IRIS_ID\", \"geometry\"]], arrs_gdf_forirismerge[[\"INSEE_ARR_ID\", \"NOM_ARR\", \"geometry\"]], how=\"intersection\")\n",
    "\n",
    "# measure intersection area and pick the arrondissement covering the largest share of each IRIS\n",
    "iris_arr_intersection[\"intersect_area\"] = iris_arr_intersection.geometry.area\n",
    "iris_arr_best = (iris_arr_intersection.sort_values(\"intersect_area\", ascending=False).drop_duplicates(subset=\"INSEE_IRIS_ID\"))\n",
    "\n",
    "# merge that arrondissement information back into your IRIS dataset\n",
    "iris_with_RegDepCommArr = iris_with_RegDepComm.merge(iris_arr_best[[\"INSEE_IRIS_ID\", \"INSEE_ARR_ID\", \"NOM_ARR\"]], on=\"INSEE_IRIS_ID\", how=\"left\")"
   ]
  },
  {
   "cell_type": "code",
   "execution_count": 8,
   "id": "3cce241d-2a3a-4c88-aee0-3d7c2d051822",
   "metadata": {},
   "outputs": [],
   "source": [
    "# rearrange columns\n",
    "iris_with_RegDepCommArr =  iris_with_RegDepCommArr[['OBJECTID', 'TYP_IRIS', 'IRIS', 'INSEE_IRIS_ID', 'NOM_IRIS', 'INSEE_COM_ID', 'NOM_COM', 'INSEE_ARR_ID', 'NOM_ARR', 'INSEE_DEP_ID', 'NOM_DEP', 'INSEE_REG', 'geometry']]"
   ]
  },
  {
   "cell_type": "code",
   "execution_count": 9,
   "id": "bd189650-7344-468f-be0d-1cfe21469987",
   "metadata": {},
   "outputs": [],
   "source": [
    "# set correct crs for future calculations (should already be EPSG:2154 but doublecheck to be sure)\n",
    "iris_with_RegDepCommArr.set_crs(epsg=2154)\n",
    "# compute centroid of each IRIS\n",
    "iris_centroids = iris_with_RegDepCommArr.copy()\n",
    "'''\n",
    "iris_centroids[\"iris_centroid\"] = iris_with_RegDepCommArr.geometry.centroid\n",
    "iris_centroids = iris_centroids.set_geometry(\"iris_centroid\")\n",
    "'''\n",
    "iris_centroids[\"geometry\"] = iris_centroids.geometry.centroid"
   ]
  },
  {
   "cell_type": "code",
   "execution_count": 10,
   "id": "67a6d546-bce1-4565-93ea-3e5f358739a6",
   "metadata": {},
   "outputs": [],
   "source": [
    "# output centroids as seperate file\n",
    "iris_centroids.to_file(\"../data/boundaries/IRIS_centroids.gpkg\", driver=\"GPKG\")\n",
    "\n",
    "# output final file to use for choropleths\n",
    "iris_with_RegDepCommArr.to_file(\"../data/boundaries/IRIS_with_RegDepCommArr.gpkg\", driver=\"GPKG\")"
   ]
  }
 ],
 "metadata": {
  "kernelspec": {
   "display_name": "Python [conda env:base] *",
   "language": "python",
   "name": "conda-base-py"
  },
  "language_info": {
   "codemirror_mode": {
    "name": "ipython",
    "version": 3
   },
   "file_extension": ".py",
   "mimetype": "text/x-python",
   "name": "python",
   "nbconvert_exporter": "python",
   "pygments_lexer": "ipython3",
   "version": "3.13.5"
  }
 },
 "nbformat": 4,
 "nbformat_minor": 5
}
