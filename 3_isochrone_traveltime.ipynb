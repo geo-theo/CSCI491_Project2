{
 "cells": [
  {
   "cell_type": "code",
   "execution_count": 1,
   "id": "851a8675-fa56-4342-bbf4-45c46a5aef23",
   "metadata": {},
   "outputs": [],
   "source": [
    "# !pip install geopandas\n",
    "import geopandas as gpd\n",
    "import pandas as pd\n"
   ]
  },
  {
   "cell_type": "markdown",
   "id": "9ddff1b1-60ff-4b9a-8f91-6b4aa7023364",
   "metadata": {},
   "source": [
    "# Calculate travel time isochrone catchments"
   ]
  },
  {
   "cell_type": "code",
   "execution_count": 2,
   "id": "972ab3ac-db56-4025-85a8-7497fe45d2f6",
   "metadata": {},
   "outputs": [],
   "source": [
    "input_path = \"../data/transport/traveltime_api/api_responses_1-2-3hrs.txt\"\n",
    "# save api responses as variables\n",
    "with open(input_path) as f:\n",
    "    exec(f.read())"
   ]
  },
  {
   "cell_type": "code",
   "execution_count": 3,
   "id": "9ec63fec-8798-4f8c-9e73-4564bf2cdf8b",
   "metadata": {},
   "outputs": [],
   "source": [
    "# function to add minute and label properties to api data for later visualizations\n",
    "def add_travel_time_properties(name, minutes, label):\n",
    "    isochrone = eval(name)\n",
    "    for feature in isochrone[\"features\"]:\n",
    "        feature[\"properties\"][\"travel_time_min\"] = minutes\n",
    "        feature[\"properties\"][\"travel_time_label\"] = label\n",
    "        \n",
    "        feature[\"properties\"].pop(\"search_id\", None) # remove 'search_id' since they're all \"0\" from API\n",
    "\n",
    "    return {\"name\": name, \"travel_time_min\": minutes, \"travel_time_label\": label, \"data\": isochrone}\n",
    "\n",
    "# save list of isocrhone variable names\n",
    "variable_names = [f\"isochrone{i:03d}\" for i in range(1, 181)]\n",
    "# save list of travel times as integers\n",
    "travel_times = list(range(1, 181))\n",
    "# save list of travel time labels\n",
    "travel_labels = [f\"{i:03d}_min\" for i in travel_times]\n",
    "\n",
    "# save all data into dictionary\n",
    "isochrone_dict = {name: add_travel_time_properties(name, minutes, label) for name, minutes, label in zip(variable_names, travel_times, travel_labels)}"
   ]
  },
  {
   "cell_type": "code",
   "execution_count": 4,
   "id": "7ab2db24-9d85-4e47-b9de-4431d2a68c26",
   "metadata": {},
   "outputs": [],
   "source": [
    "# save as individual layers\n",
    "# set path to export GeoPackage\n",
    "gpkg_output_path1 = \"../data/transport/traveltime_api/Paris_3hr-1min_isochrones.gpkg\"\n",
    "# loop through dictionary and save each isochrone as a layer\n",
    "for name, entry in isochrone_dict.items():\n",
    "    # convert the GeoJSON dict to a GeoDataFrame\n",
    "    gdf = gpd.GeoDataFrame.from_features(entry[\"data\"][\"features\"], crs=\"EPSG:4326\")\n",
    "\n",
    "    # optional: add global metadata columns for convenience\n",
    "    gdf[\"travel_time_min\"] = entry[\"travel_time_min\"]\n",
    "    gdf[\"travel_time_label\"] = entry[\"travel_time_label\"]\n",
    "\n",
    "    # save to GPKG (each layer named after the isochrone)\n",
    "    gdf.to_file(gpkg_output_path1, layer=name, driver=\"GPKG\")"
   ]
  },
  {
   "cell_type": "code",
   "execution_count": 5,
   "id": "1bfcaa97-11b0-437d-8eb7-37b00709641f",
   "metadata": {},
   "outputs": [],
   "source": [
    "# save all into one layer\n",
    "# Collect all features into one GeoDataFrame\n",
    "all_gdfs = []\n",
    "for name, entry in isochrone_dict.items():\n",
    "    gdf = gpd.GeoDataFrame.from_features(entry[\"data\"][\"features\"], crs=\"EPSG:4326\")\n",
    "    gdf[\"travel_time_min\"] = entry[\"travel_time_min\"]\n",
    "    gdf[\"travel_time_label\"] = entry[\"travel_time_label\"]\n",
    "    gdf[\"layer_name\"] = name  # optional: keep source layer reference\n",
    "    all_gdfs.append(gdf)\n",
    "# Combine into one GeoDataFrame\n",
    "gdf_all = pd.concat(all_gdfs, ignore_index=True)\n",
    "# order by travel time\n",
    "gdf_all = gdf_all.sort_values(\"travel_time_min\").reset_index(drop=True)\n",
    "gdf_all.set_crs(\"EPSG:4326\", inplace=True)\n",
    "# save as one file\n",
    "gpkg_output_path2 = \"../data/transport/traveltime_api/Paris_3hr_isochrones_combinedlayers.gpkg\"\n",
    "gdf_all.to_file(gpkg_output_path2, layer=\"all_isochrones\", driver=\"GPKG\")"
   ]
  },
  {
   "cell_type": "markdown",
   "id": "634c95e6-44c3-4c52-9281-31b5217f82bd",
   "metadata": {},
   "source": [
    "# Assign travel time to each station in RATP rail network"
   ]
  },
  {
   "cell_type": "code",
   "execution_count": 6,
   "id": "06d05811-8923-4165-9c3f-8ffac0780206",
   "metadata": {},
   "outputs": [],
   "source": [
    "# load isochrones\n",
    "isochrones = gpd.read_file(\"../data/transport/traveltime_api/Paris_3hr_isochrones_combinedlayers.gpkg\").to_crs(epsg=2154)\n",
    "# sort isochrones from largest to smallest (for containment assignment)\n",
    "isochrones_sorted = isochrones.sort_values(by=\"travel_time_min\", ascending=False)"
   ]
  },
  {
   "cell_type": "code",
   "execution_count": 7,
   "id": "62edce95-f59a-4ebe-82b0-892f418b35da",
   "metadata": {},
   "outputs": [],
   "source": [
    "# load stations\n",
    "stations = gpd.read_file(\"../data/transport/RATP/railnetwork_stations_Ile-de-France.gpkg\").to_crs(epsg=2154)\n",
    "# set default travel time for all stations\n",
    "stations[\"time_min\"] = 181"
   ]
  },
  {
   "cell_type": "code",
   "execution_count": 8,
   "id": "44b5c8ec-e207-4959-a525-a7e6f1a72d6b",
   "metadata": {},
   "outputs": [],
   "source": [
    "# assign travel times by containment\n",
    "for _, row in isochrones_sorted.iterrows():\n",
    "    poly = row.geometry\n",
    "    minute_val = int(row[\"travel_time_min\"])\n",
    "    mask = (stations.within(poly)) & (stations[\"time_min\"] > minute_val)\n",
    "    stations.loc[mask, \"time_min\"] = minute_val"
   ]
  },
  {
   "cell_type": "code",
   "execution_count": 9,
   "id": "2b87301d-1d87-4505-b1a0-fc526f048a2b",
   "metadata": {},
   "outputs": [],
   "source": [
    "# output to geopackage\n",
    "gpkg_output_path = \"../data/transport/RATP/railstations_with_traveltime.gpkg\"\n",
    "stations.to_file(gpkg_output_path, driver=\"GPKG\")"
   ]
  }
 ],
 "metadata": {
  "kernelspec": {
   "display_name": "Python [conda env:base] *",
   "language": "python",
   "name": "conda-base-py"
  },
  "language_info": {
   "codemirror_mode": {
    "name": "ipython",
    "version": 3
   },
   "file_extension": ".py",
   "mimetype": "text/x-python",
   "name": "python",
   "nbconvert_exporter": "python",
   "pygments_lexer": "ipython3",
   "version": "3.13.5"
  }
 },
 "nbformat": 4,
 "nbformat_minor": 5
}
